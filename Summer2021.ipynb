{
  "nbformat": 4,
  "nbformat_minor": 0,
  "metadata": {
    "accelerator": "GPU",
    "colab": {
      "name": "Summer2021.ipynb",
      "provenance": [],
      "authorship_tag": "ABX9TyMz0xkqGiz7IZvRYlOrBEQa",
      "include_colab_link": true
    },
    "kernelspec": {
      "display_name": "Python 3",
      "name": "python3"
    },
    "language_info": {
      "name": "python"
    }
  },
  "cells": [
    {
      "cell_type": "markdown",
      "metadata": {
        "id": "view-in-github",
        "colab_type": "text"
      },
      "source": [
        "<a href=\"https://colab.research.google.com/github/Chdunham/SUREResearch2021/blob/main/Summer2021.ipynb\" target=\"_parent\"><img src=\"https://colab.research.google.com/assets/colab-badge.svg\" alt=\"Open In Colab\"/></a>"
      ]
    },
    {
      "cell_type": "code",
      "metadata": {
        "colab": {
          "base_uri": "https://localhost:8080/",
          "height": 570
        },
        "id": "B4zPvpmnQ4_S",
        "outputId": "6eeb34d6-35e0-4292-fce7-266f24478874"
      },
      "source": [
        "# Get Adult data from UCI repository: https://archive.ics.uci.edu/ml/datasets/adult\n",
        "# >50K, <=50K.\n",
        "# age: continuous.\n",
        "#workclass: Private, Self-emp-not-inc, Self-emp-inc, Federal-gov, Local-gov, State-gov, Without-pay, Never-worked.\n",
        "# fnlwgt: continuous.\n",
        "# education: Bachelors, Some-college, 11th, HS-grad, Prof-school, Assoc-acdm, Assoc-voc, 9th, 7th-8th, 12th, Masters, 1st-4th, 10th, Doctorate, 5th-6th, Preschool.\n",
        "# education-num: continuous.\n",
        "# marital-status: Married-civ-spouse, Divorced, Never-married, Separated, Widowed, Married-spouse-absent, Married-AF-spouse.\n",
        "# occupation: Tech-support, Craft-repair, Other-service, Sales, Exec-managerial, Prof-specialty, Handlers-cleaners, Machine-op-inspct, Adm-clerical, Farming-fishing, Transport-moving, Priv-house-serv, Protective-serv, Armed-Forces.\n",
        "# relationship: Wife, Own-child, Husband, Not-in-family, Other-relative, Unmarried.\n",
        "# race: White, Asian-Pac-Islander, Amer-Indian-Eskimo, Other, Black.\n",
        "# sex: Female, Male.\n",
        "# capital-gain: continuous.\n",
        "# capital-loss: continuous.\n",
        "# hours-per-week: continuous.\n",
        "# native-country: United-States, Cambodia, England, Puerto-Rico, Canada, Germany, Outlying-US(Guam-USVI-etc), India, Japan, Greece, South, China, Cuba, Iran, Honduras, Philippines, Italy, Poland, Jamaica, Vietnam, Mexico, Portugal, Ireland, France, Dominican-Republic, Laos, Ecuador, Taiwan, Haiti, Columbia, Hungary, Guatemala, Nicaragua, Scotland, Thailand, Yugoslavia, El-Salvador, Trinadad&Tobago, Peru, Hong, Holand-Netherlands.\n",
        "\n",
        "\n",
        "import pandas as pd\n",
        "import tensorflow as tf\n",
        "from keras.models import Sequential\n",
        "from keras.layers import Dense\n",
        "tf.__version__\n",
        "\n",
        "# Source: https://fairmlbook.org/code/adult.html\n",
        "\n",
        "features = [\"Age\", \"Workclass\", \"fnlwgt\", \"Education\", \"Education-Num\", \"Martial Status\",\n",
        "        \"Occupation\", \"Relationship\", \"Race\", \"Sex\", \"Capital Gain\", \"Capital Loss\",\n",
        "        \"Hours per week\", \"Country\", \"Target\"] \n",
        "\n",
        "# Change these to local file if available\n",
        "train_url = 'https://archive.ics.uci.edu/ml/machine-learning-databases/adult/adult.data'\n",
        "test_url = 'https://archive.ics.uci.edu/ml/machine-learning-databases/adult/adult.test'\n",
        "\n",
        "# This will download 3.8M\n",
        "original_train = pd.read_csv(train_url, names=features, sep=r'\\s*,\\s*', \n",
        "                             engine='python', na_values=\"?\")\n",
        "# This will download 1.9M\n",
        "original_test = pd.read_csv(test_url, names=features, sep=r'\\s*,\\s*', \n",
        "                            engine='python', na_values=\"?\", skiprows=1)\n",
        "original_test"
      ],
      "execution_count": 2,
      "outputs": [
        {
          "output_type": "execute_result",
          "data": {
            "text/html": [
              "<div>\n",
              "<style scoped>\n",
              "    .dataframe tbody tr th:only-of-type {\n",
              "        vertical-align: middle;\n",
              "    }\n",
              "\n",
              "    .dataframe tbody tr th {\n",
              "        vertical-align: top;\n",
              "    }\n",
              "\n",
              "    .dataframe thead th {\n",
              "        text-align: right;\n",
              "    }\n",
              "</style>\n",
              "<table border=\"1\" class=\"dataframe\">\n",
              "  <thead>\n",
              "    <tr style=\"text-align: right;\">\n",
              "      <th></th>\n",
              "      <th>Age</th>\n",
              "      <th>Workclass</th>\n",
              "      <th>fnlwgt</th>\n",
              "      <th>Education</th>\n",
              "      <th>Education-Num</th>\n",
              "      <th>Martial Status</th>\n",
              "      <th>Occupation</th>\n",
              "      <th>Relationship</th>\n",
              "      <th>Race</th>\n",
              "      <th>Sex</th>\n",
              "      <th>Capital Gain</th>\n",
              "      <th>Capital Loss</th>\n",
              "      <th>Hours per week</th>\n",
              "      <th>Country</th>\n",
              "      <th>Target</th>\n",
              "    </tr>\n",
              "  </thead>\n",
              "  <tbody>\n",
              "    <tr>\n",
              "      <th>0</th>\n",
              "      <td>25</td>\n",
              "      <td>Private</td>\n",
              "      <td>226802</td>\n",
              "      <td>11th</td>\n",
              "      <td>7</td>\n",
              "      <td>Never-married</td>\n",
              "      <td>Machine-op-inspct</td>\n",
              "      <td>Own-child</td>\n",
              "      <td>Black</td>\n",
              "      <td>Male</td>\n",
              "      <td>0</td>\n",
              "      <td>0</td>\n",
              "      <td>40</td>\n",
              "      <td>United-States</td>\n",
              "      <td>&lt;=50K.</td>\n",
              "    </tr>\n",
              "    <tr>\n",
              "      <th>1</th>\n",
              "      <td>38</td>\n",
              "      <td>Private</td>\n",
              "      <td>89814</td>\n",
              "      <td>HS-grad</td>\n",
              "      <td>9</td>\n",
              "      <td>Married-civ-spouse</td>\n",
              "      <td>Farming-fishing</td>\n",
              "      <td>Husband</td>\n",
              "      <td>White</td>\n",
              "      <td>Male</td>\n",
              "      <td>0</td>\n",
              "      <td>0</td>\n",
              "      <td>50</td>\n",
              "      <td>United-States</td>\n",
              "      <td>&lt;=50K.</td>\n",
              "    </tr>\n",
              "    <tr>\n",
              "      <th>2</th>\n",
              "      <td>28</td>\n",
              "      <td>Local-gov</td>\n",
              "      <td>336951</td>\n",
              "      <td>Assoc-acdm</td>\n",
              "      <td>12</td>\n",
              "      <td>Married-civ-spouse</td>\n",
              "      <td>Protective-serv</td>\n",
              "      <td>Husband</td>\n",
              "      <td>White</td>\n",
              "      <td>Male</td>\n",
              "      <td>0</td>\n",
              "      <td>0</td>\n",
              "      <td>40</td>\n",
              "      <td>United-States</td>\n",
              "      <td>&gt;50K.</td>\n",
              "    </tr>\n",
              "    <tr>\n",
              "      <th>3</th>\n",
              "      <td>44</td>\n",
              "      <td>Private</td>\n",
              "      <td>160323</td>\n",
              "      <td>Some-college</td>\n",
              "      <td>10</td>\n",
              "      <td>Married-civ-spouse</td>\n",
              "      <td>Machine-op-inspct</td>\n",
              "      <td>Husband</td>\n",
              "      <td>Black</td>\n",
              "      <td>Male</td>\n",
              "      <td>7688</td>\n",
              "      <td>0</td>\n",
              "      <td>40</td>\n",
              "      <td>United-States</td>\n",
              "      <td>&gt;50K.</td>\n",
              "    </tr>\n",
              "    <tr>\n",
              "      <th>4</th>\n",
              "      <td>18</td>\n",
              "      <td>NaN</td>\n",
              "      <td>103497</td>\n",
              "      <td>Some-college</td>\n",
              "      <td>10</td>\n",
              "      <td>Never-married</td>\n",
              "      <td>NaN</td>\n",
              "      <td>Own-child</td>\n",
              "      <td>White</td>\n",
              "      <td>Female</td>\n",
              "      <td>0</td>\n",
              "      <td>0</td>\n",
              "      <td>30</td>\n",
              "      <td>United-States</td>\n",
              "      <td>&lt;=50K.</td>\n",
              "    </tr>\n",
              "    <tr>\n",
              "      <th>...</th>\n",
              "      <td>...</td>\n",
              "      <td>...</td>\n",
              "      <td>...</td>\n",
              "      <td>...</td>\n",
              "      <td>...</td>\n",
              "      <td>...</td>\n",
              "      <td>...</td>\n",
              "      <td>...</td>\n",
              "      <td>...</td>\n",
              "      <td>...</td>\n",
              "      <td>...</td>\n",
              "      <td>...</td>\n",
              "      <td>...</td>\n",
              "      <td>...</td>\n",
              "      <td>...</td>\n",
              "    </tr>\n",
              "    <tr>\n",
              "      <th>16276</th>\n",
              "      <td>39</td>\n",
              "      <td>Private</td>\n",
              "      <td>215419</td>\n",
              "      <td>Bachelors</td>\n",
              "      <td>13</td>\n",
              "      <td>Divorced</td>\n",
              "      <td>Prof-specialty</td>\n",
              "      <td>Not-in-family</td>\n",
              "      <td>White</td>\n",
              "      <td>Female</td>\n",
              "      <td>0</td>\n",
              "      <td>0</td>\n",
              "      <td>36</td>\n",
              "      <td>United-States</td>\n",
              "      <td>&lt;=50K.</td>\n",
              "    </tr>\n",
              "    <tr>\n",
              "      <th>16277</th>\n",
              "      <td>64</td>\n",
              "      <td>NaN</td>\n",
              "      <td>321403</td>\n",
              "      <td>HS-grad</td>\n",
              "      <td>9</td>\n",
              "      <td>Widowed</td>\n",
              "      <td>NaN</td>\n",
              "      <td>Other-relative</td>\n",
              "      <td>Black</td>\n",
              "      <td>Male</td>\n",
              "      <td>0</td>\n",
              "      <td>0</td>\n",
              "      <td>40</td>\n",
              "      <td>United-States</td>\n",
              "      <td>&lt;=50K.</td>\n",
              "    </tr>\n",
              "    <tr>\n",
              "      <th>16278</th>\n",
              "      <td>38</td>\n",
              "      <td>Private</td>\n",
              "      <td>374983</td>\n",
              "      <td>Bachelors</td>\n",
              "      <td>13</td>\n",
              "      <td>Married-civ-spouse</td>\n",
              "      <td>Prof-specialty</td>\n",
              "      <td>Husband</td>\n",
              "      <td>White</td>\n",
              "      <td>Male</td>\n",
              "      <td>0</td>\n",
              "      <td>0</td>\n",
              "      <td>50</td>\n",
              "      <td>United-States</td>\n",
              "      <td>&lt;=50K.</td>\n",
              "    </tr>\n",
              "    <tr>\n",
              "      <th>16279</th>\n",
              "      <td>44</td>\n",
              "      <td>Private</td>\n",
              "      <td>83891</td>\n",
              "      <td>Bachelors</td>\n",
              "      <td>13</td>\n",
              "      <td>Divorced</td>\n",
              "      <td>Adm-clerical</td>\n",
              "      <td>Own-child</td>\n",
              "      <td>Asian-Pac-Islander</td>\n",
              "      <td>Male</td>\n",
              "      <td>5455</td>\n",
              "      <td>0</td>\n",
              "      <td>40</td>\n",
              "      <td>United-States</td>\n",
              "      <td>&lt;=50K.</td>\n",
              "    </tr>\n",
              "    <tr>\n",
              "      <th>16280</th>\n",
              "      <td>35</td>\n",
              "      <td>Self-emp-inc</td>\n",
              "      <td>182148</td>\n",
              "      <td>Bachelors</td>\n",
              "      <td>13</td>\n",
              "      <td>Married-civ-spouse</td>\n",
              "      <td>Exec-managerial</td>\n",
              "      <td>Husband</td>\n",
              "      <td>White</td>\n",
              "      <td>Male</td>\n",
              "      <td>0</td>\n",
              "      <td>0</td>\n",
              "      <td>60</td>\n",
              "      <td>United-States</td>\n",
              "      <td>&gt;50K.</td>\n",
              "    </tr>\n",
              "  </tbody>\n",
              "</table>\n",
              "<p>16281 rows × 15 columns</p>\n",
              "</div>"
            ],
            "text/plain": [
              "       Age     Workclass  fnlwgt  ... Hours per week        Country  Target\n",
              "0       25       Private  226802  ...             40  United-States  <=50K.\n",
              "1       38       Private   89814  ...             50  United-States  <=50K.\n",
              "2       28     Local-gov  336951  ...             40  United-States   >50K.\n",
              "3       44       Private  160323  ...             40  United-States   >50K.\n",
              "4       18           NaN  103497  ...             30  United-States  <=50K.\n",
              "...    ...           ...     ...  ...            ...            ...     ...\n",
              "16276   39       Private  215419  ...             36  United-States  <=50K.\n",
              "16277   64           NaN  321403  ...             40  United-States  <=50K.\n",
              "16278   38       Private  374983  ...             50  United-States  <=50K.\n",
              "16279   44       Private   83891  ...             40  United-States  <=50K.\n",
              "16280   35  Self-emp-inc  182148  ...             60  United-States   >50K.\n",
              "\n",
              "[16281 rows x 15 columns]"
            ]
          },
          "metadata": {
            "tags": []
          },
          "execution_count": 2
        }
      ]
    },
    {
      "cell_type": "code",
      "metadata": {
        "colab": {
          "base_uri": "https://localhost:8080/"
        },
        "id": "lKbN_ws6XDSA",
        "outputId": "19cabcf1-a4cc-47f1-d90d-6786553ff85d"
      },
      "source": [
        "num_train = len(original_train)\n",
        "original = pd.concat([original_train, original_test])\n",
        "roc_original = original\n",
        "labels = original['Target']\n",
        "print(labels.head)\n",
        "labels = labels.replace('<=50K', 0).replace('>50K', 1)\n",
        "labels = labels.replace('<=50K.', 0).replace('>50K.', 1)\n",
        "labels.head()"
      ],
      "execution_count": 3,
      "outputs": [
        {
          "output_type": "stream",
          "text": [
            "<bound method NDFrame.head of 0         <=50K\n",
            "1         <=50K\n",
            "2         <=50K\n",
            "3         <=50K\n",
            "4         <=50K\n",
            "          ...  \n",
            "16276    <=50K.\n",
            "16277    <=50K.\n",
            "16278    <=50K.\n",
            "16279    <=50K.\n",
            "16280     >50K.\n",
            "Name: Target, Length: 48842, dtype: object>\n"
          ],
          "name": "stdout"
        },
        {
          "output_type": "execute_result",
          "data": {
            "text/plain": [
              "0    0\n",
              "1    0\n",
              "2    0\n",
              "3    0\n",
              "4    0\n",
              "Name: Target, dtype: int64"
            ]
          },
          "metadata": {
            "tags": []
          },
          "execution_count": 3
        }
      ]
    },
    {
      "cell_type": "code",
      "metadata": {
        "colab": {
          "base_uri": "https://localhost:8080/"
        },
        "id": "bqh-z5BDR0RK",
        "outputId": "f11e7c9d-70c5-485c-8651-2c984490556e"
      },
      "source": [
        "num_train = len(original_train)\n",
        "original = pd.concat([original_train, original_test])\n",
        "original = original.dropna()\n",
        "# Drop rows with missing values.\n",
        "labels = original['Target']\n",
        "\n",
        "labels = labels.replace('<=50K', 0).replace('>50K', 1)\n",
        "labels = labels.replace('<=50K.', 0).replace('>50K.', 1)\n",
        "# Make categorical columns numeric (one-hot encoding).\n",
        "# Normalize.\n",
        "X = pd.get_dummies(original.drop(['fnlwgt', 'Target'], axis = 1))\n",
        "y = labels\n",
        "y"
      ],
      "execution_count": 4,
      "outputs": [
        {
          "output_type": "execute_result",
          "data": {
            "text/plain": [
              "0        0\n",
              "1        0\n",
              "2        0\n",
              "3        0\n",
              "4        0\n",
              "        ..\n",
              "16275    0\n",
              "16276    0\n",
              "16278    0\n",
              "16279    0\n",
              "16280    1\n",
              "Name: Target, Length: 45222, dtype: int64"
            ]
          },
          "metadata": {
            "tags": []
          },
          "execution_count": 4
        }
      ]
    },
    {
      "cell_type": "code",
      "metadata": {
        "id": "T8lcKk76RS8Z"
      },
      "source": [
        "# Get separate training and test sets.\n",
        "import numpy as np\n",
        "from sklearn.model_selection import train_test_split\n",
        "\n",
        "# get train and test data from our set and outcome\n",
        "X_train, X_test, y_train, y_test = train_test_split(X, y, test_size=0.35, random_state=50)\n",
        "\n",
        "# Normalize data to read easier for ML\n",
        "from sklearn.preprocessing import StandardScaler\n",
        "\n",
        "scaler = StandardScaler().fit(X_train)\n",
        "\n",
        "X_train = scaler.transform(X_train)\n",
        "\n",
        "X_test = scaler.transform(X_test)"
      ],
      "execution_count": 5,
      "outputs": []
    },
    {
      "cell_type": "code",
      "metadata": {
        "colab": {
          "base_uri": "https://localhost:8080/"
        },
        "id": "bFgicEWGbe-p",
        "outputId": "f617639f-ef78-46fb-87fc-a2d0b33fa8be"
      },
      "source": [
        "from tensorflow import keras\n",
        "# Look @ overfitting\n",
        "# How do we run machine learning experiments? What are best practices, loss curves\n",
        "# train/test sets, validation sets\n",
        "# Look at in graphs\n",
        "model = Sequential()\n",
        "\n",
        "model.add(Dense(100, activation='relu', input_shape=(X_train.shape[1],)))\n",
        "\n",
        "model.add(Dense(75, activation='relu'))\n",
        "\n",
        "model.add(Dense(50, activation='relu'))\n",
        "\n",
        "#model.add(Dense(25, activation='relu'))\n",
        "\n",
        "model.add(Dense(1, activation='sigmoid'))\n",
        "\n",
        "epoch = 20\n",
        "\n",
        "batch = 265\n",
        "\n",
        "# Learning rate in model.compile? 1e - 2, 1.5e - 3\n",
        "tf.keras.optimizers.Adam(\n",
        "    learning_rate=0.01, epsilon=1e-07, amsgrad=False,\n",
        "    name='adam'\n",
        ")\n",
        "\n",
        "model.compile(loss='binary_crossentropy', optimizer='adam', metrics=['accuracy'])\n",
        "history = model.fit(X_train, y_train, epochs=epoch, batch_size=batch, verbose=1, validation_split=0.1)\n",
        "\n",
        "model.test_on_batch(X_test, y_test)\n",
        "model.metrics_names\n"
      ],
      "execution_count": 46,
      "outputs": [
        {
          "output_type": "stream",
          "text": [
            "Epoch 1/20\n",
            "100/100 [==============================] - 1s 5ms/step - loss: 0.4412 - accuracy: 0.7877 - val_loss: 0.3443 - val_accuracy: 0.8388\n",
            "Epoch 2/20\n",
            "100/100 [==============================] - 0s 4ms/step - loss: 0.3345 - accuracy: 0.8423 - val_loss: 0.3377 - val_accuracy: 0.8418\n",
            "Epoch 3/20\n",
            "100/100 [==============================] - 0s 3ms/step - loss: 0.3188 - accuracy: 0.8505 - val_loss: 0.3360 - val_accuracy: 0.8398\n",
            "Epoch 4/20\n",
            "100/100 [==============================] - 0s 3ms/step - loss: 0.3131 - accuracy: 0.8539 - val_loss: 0.3293 - val_accuracy: 0.8456\n",
            "Epoch 5/20\n",
            "100/100 [==============================] - 0s 3ms/step - loss: 0.3084 - accuracy: 0.8549 - val_loss: 0.3304 - val_accuracy: 0.8463\n",
            "Epoch 6/20\n",
            "100/100 [==============================] - 0s 3ms/step - loss: 0.3010 - accuracy: 0.8572 - val_loss: 0.3264 - val_accuracy: 0.8452\n",
            "Epoch 7/20\n",
            "100/100 [==============================] - 0s 3ms/step - loss: 0.2964 - accuracy: 0.8614 - val_loss: 0.3333 - val_accuracy: 0.8466\n",
            "Epoch 8/20\n",
            "100/100 [==============================] - 0s 3ms/step - loss: 0.2953 - accuracy: 0.8567 - val_loss: 0.3360 - val_accuracy: 0.8449\n",
            "Epoch 9/20\n",
            "100/100 [==============================] - 0s 3ms/step - loss: 0.2900 - accuracy: 0.8606 - val_loss: 0.3330 - val_accuracy: 0.8449\n",
            "Epoch 10/20\n",
            "100/100 [==============================] - 0s 3ms/step - loss: 0.2926 - accuracy: 0.8615 - val_loss: 0.3394 - val_accuracy: 0.8432\n",
            "Epoch 11/20\n",
            "100/100 [==============================] - 0s 3ms/step - loss: 0.2844 - accuracy: 0.8652 - val_loss: 0.3420 - val_accuracy: 0.8425\n",
            "Epoch 12/20\n",
            "100/100 [==============================] - 0s 3ms/step - loss: 0.2781 - accuracy: 0.8697 - val_loss: 0.3393 - val_accuracy: 0.8429\n",
            "Epoch 13/20\n",
            "100/100 [==============================] - 0s 3ms/step - loss: 0.2799 - accuracy: 0.8677 - val_loss: 0.3401 - val_accuracy: 0.8466\n",
            "Epoch 14/20\n",
            "100/100 [==============================] - 0s 3ms/step - loss: 0.2712 - accuracy: 0.8731 - val_loss: 0.3465 - val_accuracy: 0.8432\n",
            "Epoch 15/20\n",
            "100/100 [==============================] - 0s 3ms/step - loss: 0.2777 - accuracy: 0.8705 - val_loss: 0.3454 - val_accuracy: 0.8418\n",
            "Epoch 16/20\n",
            "100/100 [==============================] - 0s 3ms/step - loss: 0.2760 - accuracy: 0.8708 - val_loss: 0.3493 - val_accuracy: 0.8344\n",
            "Epoch 17/20\n",
            "100/100 [==============================] - 0s 3ms/step - loss: 0.2687 - accuracy: 0.8738 - val_loss: 0.3486 - val_accuracy: 0.8425\n",
            "Epoch 18/20\n",
            "100/100 [==============================] - 0s 3ms/step - loss: 0.2666 - accuracy: 0.8751 - val_loss: 0.3523 - val_accuracy: 0.8418\n",
            "Epoch 19/20\n",
            "100/100 [==============================] - 0s 3ms/step - loss: 0.2616 - accuracy: 0.8797 - val_loss: 0.3651 - val_accuracy: 0.8408\n",
            "Epoch 20/20\n",
            "100/100 [==============================] - 0s 3ms/step - loss: 0.2627 - accuracy: 0.8789 - val_loss: 0.3666 - val_accuracy: 0.8371\n"
          ],
          "name": "stdout"
        },
        {
          "output_type": "execute_result",
          "data": {
            "text/plain": [
              "['loss', 'accuracy']"
            ]
          },
          "metadata": {
            "tags": []
          },
          "execution_count": 46
        }
      ]
    },
    {
      "cell_type": "code",
      "metadata": {
        "colab": {
          "base_uri": "https://localhost:8080/",
          "height": 588
        },
        "id": "w4RpKBvl0qim",
        "outputId": "40f914fd-6673-453d-8250-0911f35d2d26"
      },
      "source": [
        "\n",
        "import matplotlib.pyplot as plt\n",
        "print(history.history.keys())\n",
        "#  \"Accuracy\"\n",
        "plt.plot(history.history['accuracy'])\n",
        "plt.plot(history.history['val_accuracy'])\n",
        "plt.title('model accuracy')\n",
        "plt.ylabel('accuracy')\n",
        "plt.xlabel('epoch')\n",
        "plt.legend(['train', 'validation'], loc='upper left')\n",
        "plt.show()\n",
        "# \"Loss\"\n",
        "plt.plot(history.history['loss'])\n",
        "plt.plot(history.history['val_loss'])\n",
        "plt.title('model loss')\n",
        "plt.ylabel('loss')\n",
        "plt.xlabel('epoch')\n",
        "plt.legend(['train', 'validation'], loc='upper left')\n",
        "plt.show()\n"
      ],
      "execution_count": 47,
      "outputs": [
        {
          "output_type": "stream",
          "text": [
            "dict_keys(['loss', 'accuracy', 'val_loss', 'val_accuracy'])\n"
          ],
          "name": "stdout"
        },
        {
          "output_type": "display_data",
          "data": {
            "image/png": "[encoded data removed]",
            "text/plain": [
              "<Figure size 432x288 with 1 Axes>"
            ]
          },
          "metadata": {
            "tags": [],
            "needs_background": "light"
          }
        },
        {
          "output_type": "display_data",
          "data": {
            "image/png": "[encoded data removed]",
            "text/plain": [
              "<Figure size 432x288 with 1 Axes>"
            ]
          },
          "metadata": {
            "tags": [],
            "needs_background": "light"
          }
        }
      ]
    },
    {
      "cell_type": "code",
      "metadata": {
        "id": "_QiyHCa2FUjY"
      },
      "source": [
        "#achitecture, validation, look @ accuracies\n",
        "#https://www.tensorflow.org/io/tutorials/bigquery"
      ],
      "execution_count": 8,
      "outputs": []
    },
    {
      "cell_type": "code",
      "metadata": {
        "id": "feVhT8bBWGxi"
      },
      "source": [
        "# Exploratory data analysis (EDA): Show counts and bar graphs of\n",
        "#       High income vs low income\n",
        "#       Male vs female\n",
        "#       Black vs white\n",
        "#       High income male vs female\n",
        "#       Low income male vs female\n",
        "#       High income black vs white\n",
        "#       Low income black vs white"
      ],
      "execution_count": null,
      "outputs": []
    }
  ]
}