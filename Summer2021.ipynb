{
  "nbformat": 4,
  "nbformat_minor": 0,
  "metadata": {
    "colab": {
      "name": "Summer2021.ipynb",
      "provenance": [],
      "authorship_tag": "ABX9TyO5vlQX742HdLipb5zCH+Mm",
      "include_colab_link": true
    },
    "kernelspec": {
      "name": "python3",
      "display_name": "Python 3"
    },
    "language_info": {
      "name": "python"
    },
    "accelerator": "GPU"
  },
  "cells": [
    {
      "cell_type": "markdown",
      "metadata": {
        "id": "view-in-github",
        "colab_type": "text"
      },
      "source": [
        "<a href=\"https://colab.research.google.com/github/Chdunham/SUREResearch2021/blob/main/Summer2021.ipynb\" target=\"_parent\"><img src=\"https://colab.research.google.com/assets/colab-badge.svg\" alt=\"Open In Colab\"/></a>"
      ]
    },
    {
      "cell_type": "code",
      "metadata": {
        "colab": {
          "base_uri": "https://localhost:8080/",
          "height": 277
        },
        "id": "B4zPvpmnQ4_S",
        "outputId": "9cdbac36-8c64-4b26-a141-4d83f1abd116"
      },
      "source": [
        "# Get Adult data from UCI repository: https://archive.ics.uci.edu/ml/datasets/adult\n",
        "# >50K, <=50K.\n",
        "# age: continuous.\n",
        "#workclass: Private, Self-emp-not-inc, Self-emp-inc, Federal-gov, Local-gov, State-gov, Without-pay, Never-worked.\n",
        "# fnlwgt: continuous.\n",
        "# education: Bachelors, Some-college, 11th, HS-grad, Prof-school, Assoc-acdm, Assoc-voc, 9th, 7th-8th, 12th, Masters, 1st-4th, 10th, Doctorate, 5th-6th, Preschool.\n",
        "# education-num: continuous.\n",
        "# marital-status: Married-civ-spouse, Divorced, Never-married, Separated, Widowed, Married-spouse-absent, Married-AF-spouse.\n",
        "# occupation: Tech-support, Craft-repair, Other-service, Sales, Exec-managerial, Prof-specialty, Handlers-cleaners, Machine-op-inspct, Adm-clerical, Farming-fishing, Transport-moving, Priv-house-serv, Protective-serv, Armed-Forces.\n",
        "# relationship: Wife, Own-child, Husband, Not-in-family, Other-relative, Unmarried.\n",
        "# race: White, Asian-Pac-Islander, Amer-Indian-Eskimo, Other, Black.\n",
        "# sex: Female, Male.\n",
        "# capital-gain: continuous.\n",
        "# capital-loss: continuous.\n",
        "# hours-per-week: continuous.\n",
        "# native-country: United-States, Cambodia, England, Puerto-Rico, Canada, Germany, Outlying-US(Guam-USVI-etc), India, Japan, Greece, South, China, Cuba, Iran, Honduras, Philippines, Italy, Poland, Jamaica, Vietnam, Mexico, Portugal, Ireland, France, Dominican-Republic, Laos, Ecuador, Taiwan, Haiti, Columbia, Hungary, Guatemala, Nicaragua, Scotland, Thailand, Yugoslavia, El-Salvador, Trinadad&Tobago, Peru, Hong, Holand-Netherlands.\n",
        "\n",
        "\n",
        "import pandas as pd\n",
        "import tensorflow as tf\n",
        "from keras.models import Sequential\n",
        "from keras.layers import Dense\n",
        "tf.__version__\n",
        "\n",
        "df = pd.read_csv('https://drive.google.com/uc?export=download&id=1M9XWcjHyzehAXYsafeC26X_yQ2iT5fOJ')\n",
        "df\n",
        "display(df.iloc[27])"
      ],
      "execution_count": null,
      "outputs": [
        {
          "output_type": "display_data",
          "data": {
            "text/plain": [
              "age                                54\n",
              "workclass                           ?\n",
              "fnlwgt                         180211\n",
              "education                Some-college\n",
              "education-num                      10\n",
              "marital-status     Married-civ-spouse\n",
              "occupation                          ?\n",
              "relationship                  Husband\n",
              "race               Asian-Pac-Islander\n",
              "sex                              Male\n",
              "capital-gain                        0\n",
              "capital-loss                        0\n",
              "hours-per-week                     60\n",
              "native-country                  South\n",
              "Annual Income                    >50K\n",
              "Name: 27, dtype: object"
            ]
          },
          "metadata": {
            "tags": []
          }
        }
      ]
    },
    {
      "cell_type": "code",
      "metadata": {
        "id": "98yb15BWRUHn"
      },
      "source": [
        "## Preprocess data\n",
        "# Remove unneeded columns.\n",
        "# 'education', 'marital-status', 'occupation', 'capital-gain', 'capital-loss', 'hours-per-week', 'native-country'\n",
        "X = pd.get_dummies(df.drop(['fnlwgt', 'Annual Income'], axis = 1))\n",
        "y = pd.get_dummies(df['Annual Income'])\n",
        "\n",
        "y = y.drop([' >50K'], axis = 1)\n"
      ],
      "execution_count": null,
      "outputs": []
    },
    {
      "cell_type": "code",
      "metadata": {
        "colab": {
          "base_uri": "https://localhost:8080/",
          "height": 212
        },
        "id": "bqh-z5BDR0RK",
        "outputId": "7d20a689-896e-48d2-8385-a50360900763"
      },
      "source": [
        "# Drop rows with missing values.\n",
        "X = X.dropna()\n",
        "# Make categorical columns numeric (one-hot encoding).\n",
        "# Normalize.\n",
        "X\n",
        "display(X.iloc[27])"
      ],
      "execution_count": null,
      "outputs": [
        {
          "output_type": "display_data",
          "data": {
            "text/plain": [
              "age                                54\n",
              "education-num                      10\n",
              "capital-gain                        0\n",
              "capital-loss                        0\n",
              "hours-per-week                     60\n",
              "                                   ..\n",
              "native-country_ Thailand            0\n",
              "native-country_ Trinadad&Tobago     0\n",
              "native-country_ United-States       0\n",
              "native-country_ Vietnam             0\n",
              "native-country_ Yugoslavia          0\n",
              "Name: 27, Length: 107, dtype: int64"
            ]
          },
          "metadata": {
            "tags": []
          }
        }
      ]
    },
    {
      "cell_type": "code",
      "metadata": {
        "colab": {
          "base_uri": "https://localhost:8080/"
        },
        "id": "T8lcKk76RS8Z",
        "outputId": "3f39122b-0692-40e5-afe2-11599738f366"
      },
      "source": [
        "# Get separate training and test sets.\n",
        "import numpy as np\n",
        "from sklearn.model_selection import train_test_split\n",
        "\n",
        "# get train and test data from our set and outcome\n",
        "X_train, X_test, y_train, y_test = train_test_split(X, y, test_size=0.35, random_state=128)\n",
        "\n",
        "# Normalize data to read easier for ML\n",
        "from sklearn.preprocessing import StandardScaler\n",
        "\n",
        "scaler = StandardScaler().fit(X_train)\n",
        "\n",
        "X_train = scaler.transform(X_train)\n",
        "print(X_train)\n",
        "\n",
        "X_test = scaler.transform(X_test)\n",
        "X_test"
      ],
      "execution_count": null,
      "outputs": [
        {
          "output_type": "stream",
          "text": [
            "[[-0.18917848  1.51980071 -0.14800879 ...  0.33869766 -0.04296689\n",
            "  -0.02572817]\n",
            " [ 1.50231848  2.2964063  -0.14800879 ...  0.33869766 -0.04296689\n",
            "  -0.02572817]\n",
            " [-1.14524197  1.13149791 -0.14800879 ... -2.95248568 -0.04296689\n",
            "  -0.02572817]\n",
            " ...\n",
            " [-0.33626517 -0.03341048 -0.14800879 ...  0.33869766 -0.04296689\n",
            "  -0.02572817]\n",
            " [-0.7039819  -0.42171328 -0.14800879 ...  0.33869766 -0.04296689\n",
            "  -0.02572817]\n",
            " [ 1.20814509 -0.42171328 -0.14800879 ...  0.33869766 -0.04296689\n",
            "  -0.02572817]]\n"
          ],
          "name": "stdout"
        },
        {
          "output_type": "execute_result",
          "data": {
            "text/plain": [
              "array([[ 0.10499491, -0.42171328, -0.14800879, ...,  0.33869766,\n",
              "        -0.04296689, -0.02572817],\n",
              "       [-0.18917848, -0.42171328, -0.14800879, ...,  0.33869766,\n",
              "        -0.04296689, -0.02572817],\n",
              "       [-1.07169863,  1.13149791, -0.14800879, ...,  0.33869766,\n",
              "        -0.04296689, -0.02572817],\n",
              "       ...,\n",
              "       [ 0.10499491, -0.42171328, -0.14800879, ...,  0.33869766,\n",
              "        -0.04296689, -0.02572817],\n",
              "       [-1.21878532, -1.58662167, -0.14800879, ..., -2.95248568,\n",
              "        -0.04296689, -0.02572817],\n",
              "       [-0.48335186,  0.35489232, -0.14800879, ...,  0.33869766,\n",
              "        -0.04296689, -0.02572817]])"
            ]
          },
          "metadata": {
            "tags": []
          },
          "execution_count": 12
        }
      ]
    },
    {
      "cell_type": "code",
      "metadata": {
        "colab": {
          "base_uri": "https://localhost:8080/"
        },
        "id": "bFgicEWGbe-p",
        "outputId": "e733bc71-18b5-4a85-d6c6-447f09715610"
      },
      "source": [
        "model.compile(loss='binary_crossentropy', optimizer='adam', metrics=['accuracy'])\n",
        "training = model.fit(X_test, y_test, epochs=64, batch_size=8, verbose=1)\n",
        "model.test_on_batch(X_train, y_train)\n",
        "model.metrics_names"
      ],
      "execution_count": null,
      "outputs": [
        {
          "output_type": "stream",
          "text": [
            "Epoch 1/64\n",
            "1425/1425 [==============================] - 4s 2ms/step - loss: 0.2431 - accuracy: 0.8961\n",
            "Epoch 2/64\n",
            "1425/1425 [==============================] - 3s 2ms/step - loss: 0.2365 - accuracy: 0.8962\n",
            "Epoch 3/64\n",
            "1425/1425 [==============================] - 3s 2ms/step - loss: 0.2371 - accuracy: 0.8946\n",
            "Epoch 4/64\n",
            "1425/1425 [==============================] - 3s 2ms/step - loss: 0.2260 - accuracy: 0.8973\n",
            "Epoch 5/64\n",
            "1425/1425 [==============================] - 3s 2ms/step - loss: 0.2126 - accuracy: 0.9008\n",
            "Epoch 6/64\n",
            "1425/1425 [==============================] - 3s 2ms/step - loss: 0.2212 - accuracy: 0.8993\n",
            "Epoch 7/64\n",
            "1425/1425 [==============================] - 3s 2ms/step - loss: 0.2073 - accuracy: 0.9065\n",
            "Epoch 8/64\n",
            "1425/1425 [==============================] - 3s 2ms/step - loss: 0.2068 - accuracy: 0.9031\n",
            "Epoch 9/64\n",
            "1425/1425 [==============================] - 3s 2ms/step - loss: 0.1939 - accuracy: 0.9106\n",
            "Epoch 10/64\n",
            "1425/1425 [==============================] - 3s 2ms/step - loss: 0.2076 - accuracy: 0.9030\n",
            "Epoch 11/64\n",
            "1425/1425 [==============================] - 3s 2ms/step - loss: 0.2004 - accuracy: 0.9049\n",
            "Epoch 12/64\n",
            "1425/1425 [==============================] - 3s 2ms/step - loss: 0.2073 - accuracy: 0.9094\n",
            "Epoch 13/64\n",
            "1425/1425 [==============================] - 3s 2ms/step - loss: 0.1973 - accuracy: 0.9116\n",
            "Epoch 14/64\n",
            "1425/1425 [==============================] - 3s 2ms/step - loss: 0.1929 - accuracy: 0.9111\n",
            "Epoch 15/64\n",
            "1425/1425 [==============================] - 3s 2ms/step - loss: 0.1902 - accuracy: 0.9114\n",
            "Epoch 16/64\n",
            "1425/1425 [==============================] - 3s 2ms/step - loss: 0.1841 - accuracy: 0.9142\n",
            "Epoch 17/64\n",
            "1425/1425 [==============================] - 3s 2ms/step - loss: 0.1893 - accuracy: 0.9118\n",
            "Epoch 18/64\n",
            "1425/1425 [==============================] - 3s 2ms/step - loss: 0.1807 - accuracy: 0.9146\n",
            "Epoch 19/64\n",
            "1425/1425 [==============================] - 3s 2ms/step - loss: 0.1821 - accuracy: 0.9168\n",
            "Epoch 20/64\n",
            "1425/1425 [==============================] - 3s 2ms/step - loss: 0.1717 - accuracy: 0.9219\n",
            "Epoch 21/64\n",
            "1425/1425 [==============================] - 3s 2ms/step - loss: 0.1821 - accuracy: 0.9122\n",
            "Epoch 22/64\n",
            "1425/1425 [==============================] - 3s 2ms/step - loss: 0.1720 - accuracy: 0.9192\n",
            "Epoch 23/64\n",
            "1425/1425 [==============================] - 3s 2ms/step - loss: 0.1708 - accuracy: 0.9206\n",
            "Epoch 24/64\n",
            "1425/1425 [==============================] - 3s 2ms/step - loss: 0.1808 - accuracy: 0.9150\n",
            "Epoch 25/64\n",
            "1425/1425 [==============================] - 3s 2ms/step - loss: 0.1687 - accuracy: 0.9228\n",
            "Epoch 26/64\n",
            "1425/1425 [==============================] - 3s 2ms/step - loss: 0.1742 - accuracy: 0.9196\n",
            "Epoch 27/64\n",
            "1425/1425 [==============================] - 3s 2ms/step - loss: 0.1669 - accuracy: 0.9209\n",
            "Epoch 28/64\n",
            "1425/1425 [==============================] - 3s 2ms/step - loss: 0.1660 - accuracy: 0.9254\n",
            "Epoch 29/64\n",
            "1425/1425 [==============================] - 3s 2ms/step - loss: 0.1636 - accuracy: 0.9258\n",
            "Epoch 30/64\n",
            "1425/1425 [==============================] - 3s 2ms/step - loss: 0.1651 - accuracy: 0.9227\n",
            "Epoch 31/64\n",
            "1425/1425 [==============================] - 3s 2ms/step - loss: 0.1550 - accuracy: 0.9288\n",
            "Epoch 32/64\n",
            "1425/1425 [==============================] - 3s 2ms/step - loss: 0.1616 - accuracy: 0.9269\n",
            "Epoch 33/64\n",
            "1425/1425 [==============================] - 3s 2ms/step - loss: 0.1609 - accuracy: 0.9258\n",
            "Epoch 34/64\n",
            "1425/1425 [==============================] - 3s 2ms/step - loss: 0.1546 - accuracy: 0.9283\n",
            "Epoch 35/64\n",
            "1425/1425 [==============================] - 3s 2ms/step - loss: 0.1564 - accuracy: 0.9243\n",
            "Epoch 36/64\n",
            "1425/1425 [==============================] - 3s 2ms/step - loss: 0.1571 - accuracy: 0.9295\n",
            "Epoch 37/64\n",
            "1425/1425 [==============================] - 3s 2ms/step - loss: 0.1576 - accuracy: 0.9295\n",
            "Epoch 38/64\n",
            "1425/1425 [==============================] - 3s 2ms/step - loss: 0.1555 - accuracy: 0.9310\n",
            "Epoch 39/64\n",
            "1425/1425 [==============================] - 3s 2ms/step - loss: 0.1525 - accuracy: 0.9300\n",
            "Epoch 40/64\n",
            "1425/1425 [==============================] - 3s 2ms/step - loss: 0.1491 - accuracy: 0.9289\n",
            "Epoch 41/64\n",
            "1425/1425 [==============================] - 3s 2ms/step - loss: 0.1485 - accuracy: 0.9323\n",
            "Epoch 42/64\n",
            "1425/1425 [==============================] - 3s 2ms/step - loss: 0.1523 - accuracy: 0.9301\n",
            "Epoch 43/64\n",
            "1425/1425 [==============================] - 3s 2ms/step - loss: 0.1478 - accuracy: 0.9308\n",
            "Epoch 44/64\n",
            "1425/1425 [==============================] - 3s 2ms/step - loss: 0.1507 - accuracy: 0.9293\n",
            "Epoch 45/64\n",
            "1425/1425 [==============================] - 3s 2ms/step - loss: 0.1508 - accuracy: 0.9313\n",
            "Epoch 46/64\n",
            "1425/1425 [==============================] - 3s 2ms/step - loss: 0.1437 - accuracy: 0.9329\n",
            "Epoch 47/64\n",
            "1425/1425 [==============================] - 3s 2ms/step - loss: 0.1456 - accuracy: 0.9342\n",
            "Epoch 48/64\n",
            "1425/1425 [==============================] - 3s 2ms/step - loss: 0.1478 - accuracy: 0.9309\n",
            "Epoch 49/64\n",
            "1425/1425 [==============================] - 3s 2ms/step - loss: 0.1456 - accuracy: 0.9319\n",
            "Epoch 50/64\n",
            "1425/1425 [==============================] - 3s 2ms/step - loss: 0.1372 - accuracy: 0.9384\n",
            "Epoch 51/64\n",
            "1231/1425 [========================>.....] - ETA: 0s - loss: 0.1439 - accuracy: 0.9344"
          ],
          "name": "stdout"
        }
      ]
    },
    {
      "cell_type": "code",
      "metadata": {
        "id": "w4RpKBvl0qim"
      },
      "source": [
        "# Exploratory data analysis (EDA): Show counts and bar graphs of\n",
        "#       High income vs low income\n",
        "#       Male vs female\n",
        "#       Black vs white\n",
        "#       High income male vs female\n",
        "#       Low income male vs female\n",
        "#       High income black vs white\n",
        "#       Low income black vs white"
      ],
      "execution_count": null,
      "outputs": []
    }
  ]
}